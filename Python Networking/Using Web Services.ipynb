{
 "cells": [
  {
   "cell_type": "markdown",
   "id": "6742e56f-ff84-416d-abb8-a8ab1f33fc0b",
   "metadata": {},
   "source": [
    "## eXtensible Markup Language XML"
   ]
  },
  {
   "cell_type": "markdown",
   "id": "41d72c93-1a5b-4a8b-a57e-f97b7e5fcc35",
   "metadata": {},
   "source": [
    "XML looks very similar to HTML."
   ]
  },
  {
   "cell_type": "markdown",
   "id": "2cf821f9-ba9f-4fb5-beb6-3018847c282b",
   "metadata": {},
   "source": [
    "## Parsing XML"
   ]
  },
  {
   "cell_type": "markdown",
   "id": "9121d3ee-9b83-4d33-8b1c-20b7bf4ba9df",
   "metadata": {},
   "source": [
    "Often it is helpful to think of an XML document as a tree structure where there\n",
    "is a top tag and other tags are drawn as children of their parent nodes."
   ]
  },
  {
   "cell_type": "code",
   "execution_count": 16,
   "id": "b9f88438-981c-42e7-a72d-07703998b2fb",
   "metadata": {},
   "outputs": [
    {
     "name": "stdout",
     "output_type": "stream",
     "text": [
      "Name: Dr. Chuck\n",
      "Phone:  +1 734 303 4456 \n",
      "email:  dr_chuck@umich.edu\n",
      "    hide: yes\n"
     ]
    }
   ],
   "source": [
    "#xml1.py\n",
    "\n",
    "import xml.etree.ElementTree as ET\n",
    "\n",
    "data = '''\n",
    "<person>\n",
    "  <name>Dr. Chuck</name>\n",
    "  <phone type=\"intl\"> +1 734 303 4456 </phone>\n",
    "   <email hide=\"yes\"> dr_chuck@umich.edu\n",
    "   </email>\n",
    "</person>'''\n",
    "\n",
    "tree = ET.fromstring(data)   #convert from XML string into a tree of XML nodes\n",
    "print('Name:', tree.find('name').text)  #search through tree and retrieve node that matches tag\n",
    "print('Phone:', tree.find('phone').text)\n",
    "print('email:', tree.find('email').text, 'hide:', tree.find('email').get('hide'))"
   ]
  },
  {
   "cell_type": "markdown",
   "id": "02c69be3-1985-4d5f-8c67-ff876541f609",
   "metadata": {},
   "source": [
    "Using a loop to process all of the nodes in the XML tree."
   ]
  },
  {
   "cell_type": "code",
   "execution_count": 1,
   "id": "10d0be3c-4a3a-4b6d-8c95-31f8512fc0c2",
   "metadata": {},
   "outputs": [
    {
     "name": "stdout",
     "output_type": "stream",
     "text": [
      "User count: 2\n",
      "Name Chuck\n",
      "Id 001\n",
      "Attribute 2\n",
      "Name Brent\n",
      "Id 009\n",
      "Attribute 7\n"
     ]
    }
   ],
   "source": [
    "#xml2.py\n",
    "\n",
    "import xml.etree.ElementTree as ET\n",
    "#https://docs.python.org/3/library/xml.etree.elementtree.html\n",
    "\n",
    "input = '''\n",
    "<stuff>\n",
    "    <users>\n",
    "        <user x=\"2\">\n",
    "            <id>001</id>\n",
    "            <name>Chuck</name>\n",
    "        </user>\n",
    "        <user x=\"7\">\n",
    "            <id>009</id>\n",
    "            <name>Brent</name>\n",
    "        </user>\n",
    "    </users>\n",
    "</stuff>'''\n",
    "\n",
    "stuff = ET.fromstring(input)\n",
    "lst = stuff.findall('users/user')  #retrieve a Python list of subtrees\n",
    "print('User count:', len(lst))\n",
    "\n",
    "# loop through all of the nodes\n",
    "for item in lst:\n",
    "    print('Name', item.find('name').text)\n",
    "    print('Id', item.find('id').text)\n",
    "    print('Attribute', item.get(\"x\"))\n"
   ]
  },
  {
   "cell_type": "markdown",
   "id": "c63fc4e6-8e86-42f9-a0f7-adbd1d25508f",
   "metadata": {},
   "source": [
    "## JavaScript Object Notation - JSON"
   ]
  },
  {
   "cell_type": "markdown",
   "id": "cded87b9-2815-47af-8854-b94745a0729a",
   "metadata": {},
   "source": [
    "Python’s syntax for dictionaries and lists influenced the syntax of JSON. So the format of\n",
    "JSON is nearly identical to a combination of Python lists and dictionaries.\n",
    "\n",
    "JSON is more structured than HTML or XML so we do not need to represent it in Python using a data type that maintains order.  Typically we use a Python Dictionary."
   ]
  },
  {
   "cell_type": "markdown",
   "id": "35018833-53ca-4def-8000-4670342072d2",
   "metadata": {},
   "source": [
    "## Parsing JSON"
   ]
  },
  {
   "cell_type": "code",
   "execution_count": 17,
   "id": "c57f5580-ba9d-45f6-af9a-1131a4606b3c",
   "metadata": {},
   "outputs": [
    {
     "name": "stdout",
     "output_type": "stream",
     "text": [
      "User count: 2\n",
      "Name Chuck\n",
      "Id 001\n",
      "Attribute 2\n",
      "Name Chuck\n",
      "Id 009\n",
      "Attribute 7\n"
     ]
    }
   ],
   "source": [
    "#json2.py\n",
    "\n",
    "import json\n",
    "\n",
    "# define a list of multiple dictionaries\n",
    "data = '''\n",
    "[\n",
    "  { \"id\" : \"001\",\n",
    "    \"x\" : \"2\",\n",
    "    \"name\" : \"Chuck\"\n",
    "  } ,\n",
    "  { \"id\" : \"009\",\n",
    "    \"x\" : \"7\",\n",
    "    \"name\" : \"Chuck\"\n",
    "  }\n",
    "]'''\n",
    "\n",
    "#use JSON parser to return list\n",
    "info = json.loads(data) #returns a Python list where each element is a dictionary\n",
    "print('User count:', len(info))\n",
    "\n",
    "#iterate through each list element (ie. visit each contained dictionary)\n",
    "for item in info:\n",
    "    print('Name', item['name'])\n",
    "    print('Id', item['id'])\n",
    "    print('Attribute', item['x'])\n"
   ]
  },
  {
   "cell_type": "markdown",
   "id": "5e382f59-b906-4de9-a986-b1df77be322c",
   "metadata": {},
   "source": [
    "## Application Programming Interfaces -- APIs"
   ]
  }
 ],
 "metadata": {
  "kernelspec": {
   "display_name": "Python 3 (ipykernel)",
   "language": "python",
   "name": "python3"
  },
  "language_info": {
   "codemirror_mode": {
    "name": "ipython",
    "version": 3
   },
   "file_extension": ".py",
   "mimetype": "text/x-python",
   "name": "python",
   "nbconvert_exporter": "python",
   "pygments_lexer": "ipython3",
   "version": "3.9.7"
  }
 },
 "nbformat": 4,
 "nbformat_minor": 5
}
