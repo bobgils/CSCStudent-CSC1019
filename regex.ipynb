{
 "cells": [
  {
   "cell_type": "code",
   "execution_count": null,
   "id": "614167bc-7d87-4360-87b2-d9f0332babc2",
   "metadata": {},
   "outputs": [],
   "source": [
    "\"\"\"\n",
    "Uses the module re methods and regular expressions\n",
    "Search for lines that contain 'From'\n",
    "\n",
    "type(re) #<class 'module'>\n",
    "\"\"\"\n",
    "\n",
    "import re\n",
    "import unittest\n",
    "import doctest\n",
    "\n",
    "def main():\n",
    "\n",
    "    hand = open('mbox-short.txt')\n",
    "    # text = [\"From: stephen.marquard@uct.ac.za\", \n",
    "            # \"Message-ID: <200801051412.m05ECIaH010327@nakamura.uits.iupui.edu>\" ]\n",
    "    for line in hand:\n",
    "        line = line.rstrip()\n",
    "        if re.search('From:', line):  #matches string only at beginning of line\n",
    "            print(line)\n",
    "\n",
    "if __name__ == '__main__':\n",
    "    main()\n",
    "\n",
    "class TestRE01(unittest.TestCase):\n",
    "    def test_printdocstring(self):\n",
    "        print(__doc__)\n",
    "    def test_myself(self):\n",
    "        doctest.testmod()"
   ]
  }
 ],
 "metadata": {
  "kernelspec": {
   "display_name": "Python 3 (ipykernel)",
   "language": "python",
   "name": "python3"
  },
  "language_info": {
   "codemirror_mode": {
    "name": "ipython",
    "version": 3
   },
   "file_extension": ".py",
   "mimetype": "text/x-python",
   "name": "python",
   "nbconvert_exporter": "python",
   "pygments_lexer": "ipython3",
   "version": "3.9.7"
  }
 },
 "nbformat": 4,
 "nbformat_minor": 5
}
